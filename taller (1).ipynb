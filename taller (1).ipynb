{
 "cells": [
  {
   "cell_type": "markdown",
   "id": "2242f5e7-5060-4cde-9f2a-c61f58a53b03",
   "metadata": {},
   "source": [
    "# TEORÍA CUÁNTICA BÁSICA, OBSERVABLES Y MEDIDAS\n",
    "\n",
    "## Juan Sebastian Velandia Pedraza\n",
    "SIMULE EL PRIMER SISTEMA CUÁNTICO DESCRITO EN LA SECCIÓN 4.1.\n",
    "\n",
    "El sistema consiste en una partícula confinada a un conjunto discreto de posiciones en una línea. El simulador debe permitir especificar el número de posiciones y un vector ket de estado asignando las amplitudes.\n",
    "\n",
    "1. El sistema debe calcular la probabilidad de encontrarlo en una posición en particular."
   ]
  },
  {
   "cell_type": "code",
   "execution_count": 20,
   "id": "b0d156ed-25ab-439f-8d53-6d9ff31b86ff",
   "metadata": {},
   "outputs": [
    {
     "name": "stdin",
     "output_type": "stream",
     "text": [
      "digite posicion 0\n"
     ]
    },
    {
     "name": "stdout",
     "output_type": "stream",
     "text": [
      "(0.2857142857142857+0j)\n"
     ]
    }
   ],
   "source": [
    "import numpy as np\n",
    "\n",
    "v1 = np.array([1+1j,2+1j])\n",
    "norma = np.linalg.norm(v1)\n",
    "posicion = 1\n",
    "probabilidad = (v1[posicion]*(np.conj(v1[posicion])))/(norma**2)\n",
    "print(probabilidad)"
   ]
  },
  {
   "cell_type": "markdown",
   "id": "11f3a39c-265f-4950-9820-16f46d870c08",
   "metadata": {},
   "source": [
    "2. El sistema si se le da otro vector Ket debe buscar la probabilidad de transitar del primer vector al segundo."
   ]
  },
  {
   "cell_type": "code",
   "execution_count": 21,
   "id": "5c8663c7-2277-4722-8b1d-afc40b180920",
   "metadata": {},
   "outputs": [
    {
     "name": "stdout",
     "output_type": "stream",
     "text": [
      "0.9523809523809527\n"
     ]
    }
   ],
   "source": [
    "import numpy as np\n",
    "\n",
    "v1 = np.array([1+1j,2+1j])\n",
    "v2 = np.array([0+1j,1+1j])\n",
    "norma1 = np.linalg.norm(v1)\n",
    "norma2 = np.linalg.norm(v2)\n",
    "v1 = v1/norma1\n",
    "v2 = v2/norma2\n",
    "product = np.vdot(v1,v2)\n",
    "norma = (np.linalg.norm(product))**2\n",
    "print(norma)"
   ]
  },
  {
   "cell_type": "markdown",
   "id": "bac698c5-169f-439e-a00b-96cedb923c65",
   "metadata": {},
   "source": [
    "COMPLETE LOS RETOS DE PROGRAMACIÓN DEL CAPÍTULO 4\n",
    "1. Amplitud de transición. El sistema puede recibir dos vectores y calcular la probabilidad de transitar de el uno al otro después de hacer la observación"
   ]
  },
  {
   "cell_type": "code",
   "execution_count": 26,
   "id": "20b80630-7af1-479d-916a-520fd2a119e1",
   "metadata": {},
   "outputs": [
    {
     "name": "stdout",
     "output_type": "stream",
     "text": [
      "0.761904761904762\n"
     ]
    }
   ],
   "source": [
    "import numpy as np\n",
    "\n",
    "v1 = np.array([1+1j,2+1j])\n",
    "v2 = np.array([0+1j,1+1j])\n",
    "norma1 = np.linalg.norm(v1)\n",
    "norma2 = np.linalg.norm(v2)\n",
    "v1 = v1/norma1\n",
    "v2 = v2/norma2\n",
    "v2 = v2.T.conjugate()\n",
    "product = np.vdot(v2,v1)\n",
    "norma = (np.linalg.norm(product))**2\n",
    "print(norma)"
   ]
  },
  {
   "cell_type": "markdown",
   "id": "33f3f9b8-e6e4-44e9-9def-6183d8a74ac0",
   "metadata": {},
   "source": [
    "2. Ahora con una matriz que describa un observable y un vector ket, el sistema revisa que la matriz sea hermitiana, y si lo es, calcula la media y la varianza del observable en el estado dado."
   ]
  },
  {
   "cell_type": "code",
   "execution_count": 18,
   "id": "55dfe43a-252a-419b-9d70-39ddc694f4e1",
   "metadata": {},
   "outputs": [
    {
     "name": "stdout",
     "output_type": "stream",
     "text": [
      "LA matriz es hermitiana\n",
      "La media es: [1.] , La varianza es [0.]\n"
     ]
    }
   ],
   "source": [
    "import numpy as np\n",
    "\n",
    "ket = np.array([[1], [0]])\n",
    "observable = np.array([[1, 2+1j], [2-1j, 3]])\n",
    "is_hermitian = np.allclose(matrix, matrix.conj().T)\n",
    "if is_hermitian:\n",
    "    media = np.dot(ket.conj().T, np.dot(observable, ket)).real\n",
    "    varianza = np.dot(ket.conj().T, np.dot(observable ** 2, ket)).real - media ** 2\n",
    "    print(\"La matriz es hermitiana\")\n",
    "    print(\"La media es:\",media.flatten(),\", La varianza es\", varianza.flatten())\n",
    "else:\n",
    "    print(\"la matriz no es hermitiana\")"
   ]
  },
  {
   "cell_type": "markdown",
   "id": "a3f7203d-f6ef-4888-89d0-1e9a28ecf4eb",
   "metadata": {},
   "source": [
    "3. El sistema calcula los valores propios del observable y la probabilidad de que el sistema transite a alguno de los vectores propios después de la observación."
   ]
  },
  {
   "cell_type": "code",
   "execution_count": 19,
   "id": "2910a47a-01f9-4ecd-ac2f-cf06459c273a",
   "metadata": {},
   "outputs": [
    {
     "name": "stdout",
     "output_type": "stream",
     "text": [
      "Valores propios: [-0.44948974  4.44948974]\n",
      "Vectores propios:\n",
      "[[-0.83912106+0.j         -0.54394472+0.j        ]\n",
      " [ 0.48651894-0.24325947j -0.75053269+0.37526634j]]\n",
      "Probabilidad de transitar al vector propio 1: [0.70412415]\n",
      "Probabilidad de transitar al vector propio 2: [0.29587585]\n"
     ]
    }
   ],
   "source": [
    "import numpy as np\n",
    "\n",
    "def eigenvalues_and_eigenvectors(observable):\n",
    "    eigenvalues, eigenvectors = np.linalg.eigh(observable)\n",
    "    return eigenvalues, eigenvectors\n",
    "def transition_probabilities(observable, ket):\n",
    "    eigenvalues, eigenvectors = eigenvalues_and_eigenvectors(observable)\n",
    "    probabilities = np.abs(np.dot(eigenvectors.conj().T, ket)) ** 2\n",
    "    return eigenvalues, probabilities\n",
    "observable = np.array([[1, 2+1j], [2-1j, 3]])\n",
    "eigenvalues, eigenvectors = eigenvalues_and_eigenvectors(observable)\n",
    "print(\"Eigenvalues:\", eigenvalues)\n",
    "print(\"Eigenvalues:\")\n",
    "print(eigenvectors)\n",
    "ket = np.array([[1], [0]])\n",
    "eigenvalues, probabilities = transition_probabilities(observable, ket)\n",
    "for i, eigenvalue in enumerate(eigenvalues):\n",
    "    print(f\"Probabilidad de transitar al vector propio {i+1}: {probabilities[i]}\")"
   ]
  },
  {
   "cell_type": "markdown",
   "id": "f2912f5a-d07a-4a6f-8d0e-7e24aa0deafb",
   "metadata": {},
   "source": [
    "4. Se considera la dinámica del sistema. Ahora con una serie de matrices Un el sistema calcula el estado final a partir de un estado inicial."
   ]
  },
  {
   "cell_type": "code",
   "execution_count": 20,
   "id": "8d88813f-1e0f-4f31-9c15-719a0bccc5b2",
   "metadata": {},
   "outputs": [
    {
     "name": "stdout",
     "output_type": "stream",
     "text": [
      "Estado final:\n",
      "[[ 0]\n",
      " [-1]]\n"
     ]
    }
   ],
   "source": [
    "import numpy as np\n",
    "\n",
    "def evolve_system(initial_state, evolution_matrices):\n",
    "    final_state = initial_state\n",
    "    for matrix in evolution_matrices:\n",
    "        final_state = np.dot(matrix, final_state)\n",
    "    return final_state\n",
    "initial_state = np.array([[1], [0]])  # Estado inicial\n",
    "evolution_matrices = [\n",
    "    np.array([[0, 1], [1, 0]]),\n",
    "    np.array([[1, 0], [0, -1]])\n",
    "]\n",
    "final_state = evolve_system(initial_state, evolution_matrices)\n",
    "print(\"Final State:\")\n",
    "print(final_state)"
   ]
  },
  {
   "cell_type": "markdown",
   "id": "a2678c0e-3b93-410a-b861-f3df7177c227",
   "metadata": {},
   "source": [
    "4.3.1 Find all the possible states the system described in Exercise 4.2.2 can transition into after a measurement has been carried out."
   ]
  },
  {
   "cell_type": "code",
   "execution_count": 5,
   "id": "5e3f537b-73bd-4536-be1f-5c1d46f904d9",
   "metadata": {},
   "outputs": [
    {
     "data": {
      "text/plain": [
       "[array([0, 1])]"
      ]
     },
     "execution_count": 5,
     "metadata": {},
     "output_type": "execute_result"
    }
   ],
   "source": [
    "import numpy as np\n",
    "\n",
    "def calculate(estado):\n",
    "    operator = np.array([[0, 1], [1, 0]]) \n",
    "    return np.dot(operator, estado)\n",
    "def CalculateStates():\n",
    "    e0 = np.array([1, 0])\n",
    "    result = np.random.choice([0, 1], p=[1, 0])  \n",
    "    if result == 0:\n",
    "        return [np.array([0, 1])]  \n",
    "        newState = calculate(e0)\n",
    "        return [newState] \n",
    "CalculateStates()"
   ]
  },
  {
   "cell_type": "markdown",
   "id": "ea43e8dc-d8a2-456e-bc9b-cf78f080042d",
   "metadata": {},
   "source": [
    "4.3.2 Perform the same calculations as in the last example, using Exercise 4.3.1. Then draw the probability distribution of the eigenvalues as in the previous example."
   ]
  },
  {
   "cell_type": "code",
   "execution_count": 1,
   "id": "9385bb97-f2d4-4027-adf5-620a3e2a2316",
   "metadata": {},
   "outputs": [
    {
     "ename": "ModuleNotFoundError",
     "evalue": "No module named 'matplotlib'",
     "output_type": "error",
     "traceback": [
      "\u001b[1;31m---------------------------------------------------------------------------\u001b[0m",
      "\u001b[1;31mModuleNotFoundError\u001b[0m                       Traceback (most recent call last)",
      "Cell \u001b[1;32mIn[1], line 2\u001b[0m\n\u001b[0;32m      1\u001b[0m \u001b[38;5;28;01mimport\u001b[39;00m \u001b[38;5;21;01mnumpy\u001b[39;00m \u001b[38;5;28;01mas\u001b[39;00m \u001b[38;5;21;01mnp\u001b[39;00m\n\u001b[1;32m----> 2\u001b[0m \u001b[38;5;28;01mimport\u001b[39;00m \u001b[38;5;21;01mmatplotlib\u001b[39;00m\u001b[38;5;21;01m.\u001b[39;00m\u001b[38;5;21;01mpyplot\u001b[39;00m \u001b[38;5;28;01mas\u001b[39;00m \u001b[38;5;21;01mplt\u001b[39;00m\n\u001b[0;32m      4\u001b[0m \u001b[38;5;28;01mdef\u001b[39;00m \u001b[38;5;21mcalcular_probabilidad\u001b[39m(eigenvector):\n\u001b[0;32m      5\u001b[0m     \u001b[38;5;28;01mreturn\u001b[39;00m np\u001b[38;5;241m.\u001b[39mlinalg\u001b[38;5;241m.\u001b[39mnorm(eigenvector)\u001b[38;5;241m*\u001b[39m\u001b[38;5;241m*\u001b[39m\u001b[38;5;241m2\u001b[39m\u001b[38;5;241m/\u001b[39m\u001b[38;5;241m2\u001b[39m\n",
      "\u001b[1;31mModuleNotFoundError\u001b[0m: No module named 'matplotlib'"
     ]
    }
   ],
   "source": [
    "import numpy as np\n",
    "import matplotlib.pyplot as plt\n",
    "\n",
    "def calcular_probabilidad(eigenvector):\n",
    "    return np.linalg.norm(eigenvector)**2/2\n",
    "def calcular_valor_medio(eigenvalues, probabilities):\n",
    "    return sum(prob * eig_val for prob, eig_val in zip(probabilities, eigenvalues))\n",
    "eigenvector1 = np.array([1, 0])\n",
    "eigenvector2 = np.array([0, 1])\n",
    "lambda1 = 1\n",
    "lambda2 = -1\n",
    "probabilidad1 = calcular_probabilidad(eigenvector1)\n",
    "probabilidad2 = calcular_probabilidad(eigenvector2)\n",
    "valor_medio = calcular_valor_medio([lambda1, lambda2], [probabilidad1, probabilidad2])\n",
    "print(\"Probabilidad p1:\", probabilidad1)\n",
    "print(\"Probabilidad p2:\", probabilidad2)\n",
    "print(\"Valor medio:\", valor_medio)\n",
    "eigenvalues = [lambda1, lambda2]\n",
    "probabilities = [probabilidad1, probabilidad2]\n",
    "plt.bar(eigenvalues, probabilities, color=['yellow', 'purple'])\n",
    "plt.xlabel('valores')\n",
    "plt.ylabel('probabilidad')"
   ]
  },
  {
   "cell_type": "markdown",
   "id": "e727c743-0da8-4d1d-91bb-5d2209de8dc3",
   "metadata": {},
   "source": [
    "4.4.1 Exercise 4.4.1 Verify that\n",
    "$$ \n",
    "    \\begin{bmatrix} 0 && 1 \\\\\n",
    "                   1 && 0 \\\\\n",
    "    \\end{bmatrix}\n",
    "    \\begin{bmatrix}  √2/2 && √2/2 \\\\\n",
    "                   √2/2 && -√2/2 \\\\\n",
    "    \\end{bmatrix}$$\n",
    "are unitary matrices. Multiply them and verify that their product is also unitary."
   ]
  },
  {
   "cell_type": "code",
   "execution_count": 4,
   "id": "a80efb1a-576d-4c72-8a3b-eb56f4826633",
   "metadata": {},
   "outputs": [
    {
     "name": "stdout",
     "output_type": "stream",
     "text": [
      " matriz 1 es unitaria True\n",
      "matriz 2 es unitaria True\n",
      "producto entre ellas es unitario True\n"
     ]
    }
   ],
   "source": [
    "import numpy as np\n",
    "\n",
    "def is_unitary(matrix):\n",
    "    if matrix.shape[0] != matrix.shape[1]:\n",
    "        return False\n",
    "    identity = np.eye(matrix.shape[0])\n",
    "    product = np.dot(matrix, matrix.conj().T)\n",
    "    return np.allclose(product, identity)\n",
    "    \n",
    "matrix1 = np.array([[0, 1], [1, 0]])\n",
    "matrix2 = np.array([[np.sqrt(2)/2, np.sqrt(2)/2], [np.sqrt(2)/2, -np.sqrt(2)/2]])\n",
    "producto = np.dot(matrix1,matrix2)\n",
    "print(\" matriz 1 es unitaria\", is_unitary(matrix1))\n",
    "print(\"matriz 2 es unitaria\", is_unitary(matrix2))\n",
    "print(\"producto entre ellas es unitario\", is_unitary(producto))"
   ]
  },
  {
   "cell_type": "markdown",
   "id": "36d4ac17-793f-4e5c-bcd9-af8316422e9d",
   "metadata": {},
   "source": [
    "4.4.2 Determine the state of the system after three time steps. What is the chance of the quantum ball to be found at point 3?"
   ]
  },
  {
   "cell_type": "code",
   "execution_count": 38,
   "id": "69dc6a13-3677-49d2-ad03-1789ab04ead7",
   "metadata": {},
   "outputs": [
    {
     "name": "stdout",
     "output_type": "stream",
     "text": [
      "Result after one Click:  [[0.        +0.j        ]\n",
      " [0.        +0.70710678j]\n",
      " [0.70710678+0.j        ]\n",
      " [0.        +0.j        ]]\n",
      "Result after two Click:  [[ 0.5+0.5j]\n",
      " [ 0. +0.j ]\n",
      " [ 0. +0.j ]\n",
      " [-0.5+0.5j]]\n",
      "Result after one Click:  [[ 0.        +0.j        ]\n",
      " [-0.70710678+0.70710678j]\n",
      " [ 0.        +0.j        ]\n",
      " [ 0.        +0.j        ]]\n",
      "La probablidad es [0.+0.j]\n"
     ]
    }
   ],
   "source": [
    "import numpy as np\n",
    "\n",
    "m1 = np.array([[0,1/np.sqrt(2),1/np.sqrt(2),0], \n",
    "               [1j/np.sqrt(2),0,0,1/np.sqrt(2)], \n",
    "               [1/np.sqrt(2),0,0,1j/np.sqrt(2)],\n",
    "               [0,1/np.sqrt(2),-1/np.sqrt(2),0]])\n",
    "\n",
    "v1 = np.array([[1], [0], [0], [0]])\n",
    "click1 = np.dot(m1, v1)\n",
    "click2 = np.dot(m1, click1)\n",
    "click3 = np.dot(m1, click2)\n",
    "\n",
    "print(\"Result after one Click: \", click1)\n",
    "print(\"Result after two Click: \", click2)\n",
    "print(\"Result after one Click: \", click3)\n",
    "norma = np.linalg.norm(click3)\n",
    "probabilidad = (click3[2]*(np.conj(click3[2])))/(norma**2)\n",
    "print(\"La probablidad es\",probabilidad)"
   ]
  },
  {
   "cell_type": "markdown",
   "id": "887dac37-e52d-47b3-a337-af11ecb0d6ef",
   "metadata": {},
   "source": [
    "# Discución"
   ]
  },
  {
   "cell_type": "markdown",
   "id": "689ed104-9b9e-4423-bee8-e4d01d4f9847",
   "metadata": {},
   "source": [
    "4.5.2\n",
    "\n",
    "El vector de estado genérico para un sistema de dos partículas con espín se puede representar como el producto tensorial de los vectores de estado de cada partícula. \n",
    "Si cada partícula puede estar en una superposición de sus estados de espín, el vector de estado genérico para el sistema se puede escribir como:\n",
    "$$ |\\Psi\\rangle = |\\psi_1\\rangle \\otimes |\\psi_2\\rangle $$\n",
    "\n",
    "Si tenemos $n$ partículas, podemos generalizar esto a:\n",
    "\n",
    "$$ |\\Psi\\rangle = |\\psi_1\\rangle \\otimes |\\psi_2\\rangle \\otimes \\ldots \\otimes |\\psi_n\\rangle $$\n",
    "\n",
    "Esto representa el estado de un sistema de \\( n \\) partículas, donde cada partícula puede estar en una superposición de sus estados de espín.\n",
    "Cuando el estado del sistema no puede expresarse como un simple producto tensorial de los estados individuales de sus constituyentes, se produce el entrelazamiento. Esto implica que los estados de cada partícula están conectados de tal manera que la medición de una partícula puede afectar inmediatamente el estado de otra partícula, independientemente de la distancia entre ellas. El entrelazamiento es un componente esencial de la mecánica cuántica y es esencial para una variedad de procesos y usos cuánticos, como la computación cuántica, la comunicación cuántica y la criptografía cuántica."
   ]
  },
  {
   "cell_type": "markdown",
   "id": "836230cc-96b4-4f3e-a134-0f29f3ddf43c",
   "metadata": {},
   "source": [
    "4.5.3\n",
    "El estado \n",
    "$$ |\\phi\\rangle = |x_0\\rangle \\otimes |y_1\\rangle + |x_1\\rangle \\otimes |y_1\\rangle $$\n",
    "\n",
    "se puede simplificar de la siguiente manera:\n",
    "\n",
    "$$ |\\phi\\rangle = |x_0\\rangle \\otimes |y_1\\rangle + |x_1\\rangle \\otimes |y_1\\rangle = (|x_0\\rangle + |x_1\\rangle) \\otimes |y_1\\rangle $$\n",
    "\n",
    "Como $$ |x_0\\rangle + |x_1\\rangle $$ es simplemente otro vector de estado en el espacio del primer sistema, este estado puede escribirse como el producto de dos estados individuales, uno para cada subsistema:\n",
    "\n",
    "$$ |\\phi\\rangle = (|x_0\\rangle + |x_1\\rangle) \\otimes |y_1\\rangle = |\\psi\\rangle \\otimes |y_1\\rangle $$\n",
    "Por lo tanto, este estado es separable."
   ]
  }
 ],
 "metadata": {
  "kernelspec": {
   "display_name": "Python 3 (ipykernel)",
   "language": "python",
   "name": "python3"
  },
  "language_info": {
   "codemirror_mode": {
    "name": "ipython",
    "version": 3
   },
   "file_extension": ".py",
   "mimetype": "text/x-python",
   "name": "python",
   "nbconvert_exporter": "python",
   "pygments_lexer": "ipython3",
   "version": "3.11.5"
  }
 },
 "nbformat": 4,
 "nbformat_minor": 5
}
